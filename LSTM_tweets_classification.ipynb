{
  "nbformat": 4,
  "nbformat_minor": 0,
  "metadata": {
    "colab": {
      "name": "LSTM tweets classification.ipynb",
      "provenance": [],
      "collapsed_sections": [],
      "mount_file_id": "1UEKDPhzkmMPBJoxJQBV1yn-BrJ8ukfcI",
      "authorship_tag": "ABX9TyMlMJAETx4Sg+M8kL2j9aSG",
      "include_colab_link": true
    },
    "kernelspec": {
      "name": "python3",
      "display_name": "Python 3"
    },
    "accelerator": "GPU"
  },
  "cells": [
    {
      "cell_type": "markdown",
      "metadata": {
        "id": "view-in-github",
        "colab_type": "text"
      },
      "source": [
        "<a href=\"https://colab.research.google.com/github/Dnyanada-Jalindre-18/Deep-Learning/blob/main/LSTM_tweets_classification.ipynb\" target=\"_parent\"><img src=\"https://colab.research.google.com/assets/colab-badge.svg\" alt=\"Open In Colab\"/></a>"
      ]
    },
    {
      "cell_type": "markdown",
      "metadata": {
        "id": "mghU0aeqeXe4"
      },
      "source": [
        "# Sentiment Analysis : Twitter Reviews classification "
      ]
    },
    {
      "cell_type": "markdown",
      "metadata": {
        "id": "JHJiU4eXet-0"
      },
      "source": [
        "## Importing Libraries"
      ]
    },
    {
      "cell_type": "code",
      "metadata": {
        "id": "XoWbMBgheSvS"
      },
      "source": [
        "import numpy as np\r\n",
        "import pandas as pd\r\n",
        "import matplotlib.pyplot as plt\r\n",
        "import seaborn as sns\r\n",
        "import sqlite3\r\n",
        "import zipfile\r\n",
        "import re\r\n",
        "\r\n",
        "from keras.layers import Dense, Dropout, LSTM, Embedding, SpatialDropout1D\r\n",
        "from keras.preprocessing.sequence import pad_sequences\r\n",
        "from keras.models import Sequential\r\n",
        "from keras.preprocessing.text import Tokenizer\r\n",
        "from sklearn.model_selection import train_test_split\r\n",
        "from sklearn.metrics import confusion_matrix, accuracy_score"
      ],
      "execution_count": 95,
      "outputs": []
    },
    {
      "cell_type": "markdown",
      "metadata": {
        "id": "zuywF6bEgmfe"
      },
      "source": [
        "## Importing dataset\r\n",
        "Our dataset is sqlite file so we need to import that file first and then making it into readable format"
      ]
    },
    {
      "cell_type": "code",
      "metadata": {
        "id": "03wAXO3ZjqC4"
      },
      "source": [
        "# Extracting files under database.sqlite.zip\r\n",
        "with zipfile.ZipFile('/content/drive/MyDrive/database.sqlite.zip') as file:\r\n",
        "    file.extractall(\"\")"
      ],
      "execution_count": 16,
      "outputs": []
    },
    {
      "cell_type": "code",
      "metadata": {
        "id": "fsE9ewUafmak"
      },
      "source": [
        "# Making connection to the database\r\n",
        "conn = sqlite3.connect('/content/database.sqlite')\r\n",
        "cur = conn.cursor()"
      ],
      "execution_count": 17,
      "outputs": []
    },
    {
      "cell_type": "code",
      "metadata": {
        "colab": {
          "base_uri": "https://localhost:8080/"
        },
        "id": "iW6Ciczvhqjx",
        "outputId": "119f4ccc-2eba-4a4d-b407-11dbcb064759"
      },
      "source": [
        "# for accessing each row of the dataset\r\n",
        "for row in cur.execute('select name from sqlite_master where type=\"table\"'):\r\n",
        "    print(row)"
      ],
      "execution_count": 18,
      "outputs": [
        {
          "output_type": "stream",
          "text": [
            "('Sentiment',)\n"
          ],
          "name": "stdout"
        }
      ]
    },
    {
      "cell_type": "markdown",
      "metadata": {
        "id": "Gq8rQxDIlQHu"
      },
      "source": [
        "Now we've just extracted table name, we need to read the data from that \"Sentiment\" table. For that we'll be using pd.read_sql_query() method ."
      ]
    },
    {
      "cell_type": "code",
      "metadata": {
        "id": "NSVPYNgHhtjs"
      },
      "source": [
        "# for reading the data from sqlite file \r\n",
        "data = pd.read_sql_query('select * from Sentiment', conn)\r\n",
        "conn.close()"
      ],
      "execution_count": 19,
      "outputs": []
    },
    {
      "cell_type": "code",
      "metadata": {
        "colab": {
          "base_uri": "https://localhost:8080/",
          "height": 400
        },
        "id": "q6ZIR6bUl2te",
        "outputId": "dfff699b-2267-44bb-e056-e9a0e5cc56d9"
      },
      "source": [
        "# let's check Sentiment table\r\n",
        "data.head()"
      ],
      "execution_count": 20,
      "outputs": [
        {
          "output_type": "execute_result",
          "data": {
            "text/html": [
              "<div>\n",
              "<style scoped>\n",
              "    .dataframe tbody tr th:only-of-type {\n",
              "        vertical-align: middle;\n",
              "    }\n",
              "\n",
              "    .dataframe tbody tr th {\n",
              "        vertical-align: top;\n",
              "    }\n",
              "\n",
              "    .dataframe thead th {\n",
              "        text-align: right;\n",
              "    }\n",
              "</style>\n",
              "<table border=\"1\" class=\"dataframe\">\n",
              "  <thead>\n",
              "    <tr style=\"text-align: right;\">\n",
              "      <th></th>\n",
              "      <th>id</th>\n",
              "      <th>candidate</th>\n",
              "      <th>candidate_confidence</th>\n",
              "      <th>relevant_yn</th>\n",
              "      <th>relevant_yn_confidence</th>\n",
              "      <th>sentiment</th>\n",
              "      <th>sentiment_confidence</th>\n",
              "      <th>subject_matter</th>\n",
              "      <th>subject_matter_confidence</th>\n",
              "      <th>candidate_gold</th>\n",
              "      <th>name</th>\n",
              "      <th>relevant_yn_gold</th>\n",
              "      <th>retweet_count</th>\n",
              "      <th>sentiment_gold</th>\n",
              "      <th>subject_matter_gold</th>\n",
              "      <th>text</th>\n",
              "      <th>tweet_coord</th>\n",
              "      <th>tweet_created</th>\n",
              "      <th>tweet_id</th>\n",
              "      <th>tweet_location</th>\n",
              "      <th>user_timezone</th>\n",
              "    </tr>\n",
              "  </thead>\n",
              "  <tbody>\n",
              "    <tr>\n",
              "      <th>0</th>\n",
              "      <td>1</td>\n",
              "      <td>No candidate mentioned</td>\n",
              "      <td>1.0</td>\n",
              "      <td>yes</td>\n",
              "      <td>1.0</td>\n",
              "      <td>Neutral</td>\n",
              "      <td>0.6578</td>\n",
              "      <td>None of the above</td>\n",
              "      <td>1.0000</td>\n",
              "      <td></td>\n",
              "      <td>I_Am_Kenzi</td>\n",
              "      <td></td>\n",
              "      <td>5</td>\n",
              "      <td></td>\n",
              "      <td></td>\n",
              "      <td>RT @NancyLeeGrahn: How did everyone feel about...</td>\n",
              "      <td></td>\n",
              "      <td>2015-08-07 09:54:46 -0700</td>\n",
              "      <td>629697200650592256</td>\n",
              "      <td></td>\n",
              "      <td>Quito</td>\n",
              "    </tr>\n",
              "    <tr>\n",
              "      <th>1</th>\n",
              "      <td>2</td>\n",
              "      <td>Scott Walker</td>\n",
              "      <td>1.0</td>\n",
              "      <td>yes</td>\n",
              "      <td>1.0</td>\n",
              "      <td>Positive</td>\n",
              "      <td>0.6333</td>\n",
              "      <td>None of the above</td>\n",
              "      <td>1.0000</td>\n",
              "      <td></td>\n",
              "      <td>PeacefulQuest</td>\n",
              "      <td></td>\n",
              "      <td>26</td>\n",
              "      <td></td>\n",
              "      <td></td>\n",
              "      <td>RT @ScottWalker: Didn't catch the full #GOPdeb...</td>\n",
              "      <td></td>\n",
              "      <td>2015-08-07 09:54:46 -0700</td>\n",
              "      <td>629697199560069120</td>\n",
              "      <td></td>\n",
              "      <td></td>\n",
              "    </tr>\n",
              "    <tr>\n",
              "      <th>2</th>\n",
              "      <td>3</td>\n",
              "      <td>No candidate mentioned</td>\n",
              "      <td>1.0</td>\n",
              "      <td>yes</td>\n",
              "      <td>1.0</td>\n",
              "      <td>Neutral</td>\n",
              "      <td>0.6629</td>\n",
              "      <td>None of the above</td>\n",
              "      <td>0.6629</td>\n",
              "      <td></td>\n",
              "      <td>PussssyCroook</td>\n",
              "      <td></td>\n",
              "      <td>27</td>\n",
              "      <td></td>\n",
              "      <td></td>\n",
              "      <td>RT @TJMShow: No mention of Tamir Rice and the ...</td>\n",
              "      <td></td>\n",
              "      <td>2015-08-07 09:54:46 -0700</td>\n",
              "      <td>629697199312482304</td>\n",
              "      <td></td>\n",
              "      <td></td>\n",
              "    </tr>\n",
              "    <tr>\n",
              "      <th>3</th>\n",
              "      <td>4</td>\n",
              "      <td>No candidate mentioned</td>\n",
              "      <td>1.0</td>\n",
              "      <td>yes</td>\n",
              "      <td>1.0</td>\n",
              "      <td>Positive</td>\n",
              "      <td>1.0000</td>\n",
              "      <td>None of the above</td>\n",
              "      <td>0.7039</td>\n",
              "      <td></td>\n",
              "      <td>MattFromTexas31</td>\n",
              "      <td></td>\n",
              "      <td>138</td>\n",
              "      <td></td>\n",
              "      <td></td>\n",
              "      <td>RT @RobGeorge: That Carly Fiorina is trending ...</td>\n",
              "      <td></td>\n",
              "      <td>2015-08-07 09:54:45 -0700</td>\n",
              "      <td>629697197118861312</td>\n",
              "      <td>Texas</td>\n",
              "      <td>Central Time (US &amp; Canada)</td>\n",
              "    </tr>\n",
              "    <tr>\n",
              "      <th>4</th>\n",
              "      <td>5</td>\n",
              "      <td>Donald Trump</td>\n",
              "      <td>1.0</td>\n",
              "      <td>yes</td>\n",
              "      <td>1.0</td>\n",
              "      <td>Positive</td>\n",
              "      <td>0.7045</td>\n",
              "      <td>None of the above</td>\n",
              "      <td>1.0000</td>\n",
              "      <td></td>\n",
              "      <td>sharonDay5</td>\n",
              "      <td></td>\n",
              "      <td>156</td>\n",
              "      <td></td>\n",
              "      <td></td>\n",
              "      <td>RT @DanScavino: #GOPDebate w/ @realDonaldTrump...</td>\n",
              "      <td></td>\n",
              "      <td>2015-08-07 09:54:45 -0700</td>\n",
              "      <td>629697196967903232</td>\n",
              "      <td></td>\n",
              "      <td>Arizona</td>\n",
              "    </tr>\n",
              "  </tbody>\n",
              "</table>\n",
              "</div>"
            ],
            "text/plain": [
              "   id               candidate  ...  tweet_location               user_timezone\n",
              "0   1  No candidate mentioned  ...                                       Quito\n",
              "1   2            Scott Walker  ...                                            \n",
              "2   3  No candidate mentioned  ...                                            \n",
              "3   4  No candidate mentioned  ...           Texas  Central Time (US & Canada)\n",
              "4   5            Donald Trump  ...                                     Arizona\n",
              "\n",
              "[5 rows x 21 columns]"
            ]
          },
          "metadata": {
            "tags": []
          },
          "execution_count": 20
        }
      ]
    },
    {
      "cell_type": "code",
      "metadata": {
        "colab": {
          "base_uri": "https://localhost:8080/"
        },
        "id": "vh0nK3P4l6c1",
        "outputId": "31bfc383-0f34-4afb-db51-3df8bbfced4d"
      },
      "source": [
        "data.info()"
      ],
      "execution_count": 21,
      "outputs": [
        {
          "output_type": "stream",
          "text": [
            "<class 'pandas.core.frame.DataFrame'>\n",
            "RangeIndex: 13871 entries, 0 to 13870\n",
            "Data columns (total 21 columns):\n",
            " #   Column                     Non-Null Count  Dtype  \n",
            "---  ------                     --------------  -----  \n",
            " 0   id                         13871 non-null  int64  \n",
            " 1   candidate                  13871 non-null  object \n",
            " 2   candidate_confidence       13871 non-null  float64\n",
            " 3   relevant_yn                13871 non-null  object \n",
            " 4   relevant_yn_confidence     13871 non-null  float64\n",
            " 5   sentiment                  13871 non-null  object \n",
            " 6   sentiment_confidence       13871 non-null  float64\n",
            " 7   subject_matter             13871 non-null  object \n",
            " 8   subject_matter_confidence  13871 non-null  float64\n",
            " 9   candidate_gold             13871 non-null  object \n",
            " 10  name                       13871 non-null  object \n",
            " 11  relevant_yn_gold           13871 non-null  object \n",
            " 12  retweet_count              13871 non-null  int64  \n",
            " 13  sentiment_gold             13871 non-null  object \n",
            " 14  subject_matter_gold        13871 non-null  object \n",
            " 15  text                       13871 non-null  object \n",
            " 16  tweet_coord                13871 non-null  object \n",
            " 17  tweet_created              13871 non-null  object \n",
            " 18  tweet_id                   13871 non-null  int64  \n",
            " 19  tweet_location             13871 non-null  object \n",
            " 20  user_timezone              13871 non-null  object \n",
            "dtypes: float64(4), int64(3), object(14)\n",
            "memory usage: 2.2+ MB\n"
          ],
          "name": "stdout"
        }
      ]
    },
    {
      "cell_type": "code",
      "metadata": {
        "colab": {
          "base_uri": "https://localhost:8080/",
          "height": 254
        },
        "id": "6613ntuGn5ib",
        "outputId": "d68291d9-5f2c-4400-9c62-ec8aa0e10beb"
      },
      "source": [
        "data.corr()"
      ],
      "execution_count": 22,
      "outputs": [
        {
          "output_type": "execute_result",
          "data": {
            "text/html": [
              "<div>\n",
              "<style scoped>\n",
              "    .dataframe tbody tr th:only-of-type {\n",
              "        vertical-align: middle;\n",
              "    }\n",
              "\n",
              "    .dataframe tbody tr th {\n",
              "        vertical-align: top;\n",
              "    }\n",
              "\n",
              "    .dataframe thead th {\n",
              "        text-align: right;\n",
              "    }\n",
              "</style>\n",
              "<table border=\"1\" class=\"dataframe\">\n",
              "  <thead>\n",
              "    <tr style=\"text-align: right;\">\n",
              "      <th></th>\n",
              "      <th>id</th>\n",
              "      <th>candidate_confidence</th>\n",
              "      <th>relevant_yn_confidence</th>\n",
              "      <th>sentiment_confidence</th>\n",
              "      <th>subject_matter_confidence</th>\n",
              "      <th>retweet_count</th>\n",
              "      <th>tweet_id</th>\n",
              "    </tr>\n",
              "  </thead>\n",
              "  <tbody>\n",
              "    <tr>\n",
              "      <th>id</th>\n",
              "      <td>1.000000</td>\n",
              "      <td>0.081504</td>\n",
              "      <td>0.088986</td>\n",
              "      <td>0.051172</td>\n",
              "      <td>0.079515</td>\n",
              "      <td>-0.040689</td>\n",
              "      <td>-0.898911</td>\n",
              "    </tr>\n",
              "    <tr>\n",
              "      <th>candidate_confidence</th>\n",
              "      <td>0.081504</td>\n",
              "      <td>1.000000</td>\n",
              "      <td>0.932458</td>\n",
              "      <td>0.506682</td>\n",
              "      <td>0.749057</td>\n",
              "      <td>0.020614</td>\n",
              "      <td>-0.083695</td>\n",
              "    </tr>\n",
              "    <tr>\n",
              "      <th>relevant_yn_confidence</th>\n",
              "      <td>0.088986</td>\n",
              "      <td>0.932458</td>\n",
              "      <td>1.000000</td>\n",
              "      <td>0.518682</td>\n",
              "      <td>0.792923</td>\n",
              "      <td>0.021756</td>\n",
              "      <td>-0.088960</td>\n",
              "    </tr>\n",
              "    <tr>\n",
              "      <th>sentiment_confidence</th>\n",
              "      <td>0.051172</td>\n",
              "      <td>0.506682</td>\n",
              "      <td>0.518682</td>\n",
              "      <td>1.000000</td>\n",
              "      <td>0.431655</td>\n",
              "      <td>0.008324</td>\n",
              "      <td>-0.062428</td>\n",
              "    </tr>\n",
              "    <tr>\n",
              "      <th>subject_matter_confidence</th>\n",
              "      <td>0.079515</td>\n",
              "      <td>0.749057</td>\n",
              "      <td>0.792923</td>\n",
              "      <td>0.431655</td>\n",
              "      <td>1.000000</td>\n",
              "      <td>0.030302</td>\n",
              "      <td>-0.077708</td>\n",
              "    </tr>\n",
              "    <tr>\n",
              "      <th>retweet_count</th>\n",
              "      <td>-0.040689</td>\n",
              "      <td>0.020614</td>\n",
              "      <td>0.021756</td>\n",
              "      <td>0.008324</td>\n",
              "      <td>0.030302</td>\n",
              "      <td>1.000000</td>\n",
              "      <td>-0.016831</td>\n",
              "    </tr>\n",
              "    <tr>\n",
              "      <th>tweet_id</th>\n",
              "      <td>-0.898911</td>\n",
              "      <td>-0.083695</td>\n",
              "      <td>-0.088960</td>\n",
              "      <td>-0.062428</td>\n",
              "      <td>-0.077708</td>\n",
              "      <td>-0.016831</td>\n",
              "      <td>1.000000</td>\n",
              "    </tr>\n",
              "  </tbody>\n",
              "</table>\n",
              "</div>"
            ],
            "text/plain": [
              "                                 id  ...  tweet_id\n",
              "id                         1.000000  ... -0.898911\n",
              "candidate_confidence       0.081504  ... -0.083695\n",
              "relevant_yn_confidence     0.088986  ... -0.088960\n",
              "sentiment_confidence       0.051172  ... -0.062428\n",
              "subject_matter_confidence  0.079515  ... -0.077708\n",
              "retweet_count             -0.040689  ... -0.016831\n",
              "tweet_id                  -0.898911  ...  1.000000\n",
              "\n",
              "[7 rows x 7 columns]"
            ]
          },
          "metadata": {
            "tags": []
          },
          "execution_count": 22
        }
      ]
    },
    {
      "cell_type": "code",
      "metadata": {
        "id": "D-dMONbToc2U"
      },
      "source": [
        "# for simplicity we are considering only two columns : Sentiment and text\r\n",
        "data = data[['sentiment','text']]"
      ],
      "execution_count": 23,
      "outputs": []
    },
    {
      "cell_type": "code",
      "metadata": {
        "colab": {
          "base_uri": "https://localhost:8080/",
          "height": 195
        },
        "id": "-gckz_w1qMb3",
        "outputId": "6541c1a2-a07f-41b5-bf61-848b6a23dc9d"
      },
      "source": [
        "data.head()"
      ],
      "execution_count": 24,
      "outputs": [
        {
          "output_type": "execute_result",
          "data": {
            "text/html": [
              "<div>\n",
              "<style scoped>\n",
              "    .dataframe tbody tr th:only-of-type {\n",
              "        vertical-align: middle;\n",
              "    }\n",
              "\n",
              "    .dataframe tbody tr th {\n",
              "        vertical-align: top;\n",
              "    }\n",
              "\n",
              "    .dataframe thead th {\n",
              "        text-align: right;\n",
              "    }\n",
              "</style>\n",
              "<table border=\"1\" class=\"dataframe\">\n",
              "  <thead>\n",
              "    <tr style=\"text-align: right;\">\n",
              "      <th></th>\n",
              "      <th>sentiment</th>\n",
              "      <th>text</th>\n",
              "    </tr>\n",
              "  </thead>\n",
              "  <tbody>\n",
              "    <tr>\n",
              "      <th>0</th>\n",
              "      <td>Neutral</td>\n",
              "      <td>RT @NancyLeeGrahn: How did everyone feel about...</td>\n",
              "    </tr>\n",
              "    <tr>\n",
              "      <th>1</th>\n",
              "      <td>Positive</td>\n",
              "      <td>RT @ScottWalker: Didn't catch the full #GOPdeb...</td>\n",
              "    </tr>\n",
              "    <tr>\n",
              "      <th>2</th>\n",
              "      <td>Neutral</td>\n",
              "      <td>RT @TJMShow: No mention of Tamir Rice and the ...</td>\n",
              "    </tr>\n",
              "    <tr>\n",
              "      <th>3</th>\n",
              "      <td>Positive</td>\n",
              "      <td>RT @RobGeorge: That Carly Fiorina is trending ...</td>\n",
              "    </tr>\n",
              "    <tr>\n",
              "      <th>4</th>\n",
              "      <td>Positive</td>\n",
              "      <td>RT @DanScavino: #GOPDebate w/ @realDonaldTrump...</td>\n",
              "    </tr>\n",
              "  </tbody>\n",
              "</table>\n",
              "</div>"
            ],
            "text/plain": [
              "  sentiment                                               text\n",
              "0   Neutral  RT @NancyLeeGrahn: How did everyone feel about...\n",
              "1  Positive  RT @ScottWalker: Didn't catch the full #GOPdeb...\n",
              "2   Neutral  RT @TJMShow: No mention of Tamir Rice and the ...\n",
              "3  Positive  RT @RobGeorge: That Carly Fiorina is trending ...\n",
              "4  Positive  RT @DanScavino: #GOPDebate w/ @realDonaldTrump..."
            ]
          },
          "metadata": {
            "tags": []
          },
          "execution_count": 24
        }
      ]
    },
    {
      "cell_type": "code",
      "metadata": {
        "id": "UMgrLvaGqQoJ"
      },
      "source": [
        "# For more simplicity let's remove Neutral tweets\r\n",
        "data = data[data.sentiment!='Neutral']"
      ],
      "execution_count": 26,
      "outputs": []
    },
    {
      "cell_type": "code",
      "metadata": {
        "id": "Zwg46Hg_q0XR",
        "colab": {
          "base_uri": "https://localhost:8080/",
          "height": 195
        },
        "outputId": "d1c3d1d1-5bdb-4141-93f2-ad42ff4fa4b6"
      },
      "source": [
        "# Now we have sentiment values as positive and negative.\r\n",
        "data.head()"
      ],
      "execution_count": 27,
      "outputs": [
        {
          "output_type": "execute_result",
          "data": {
            "text/html": [
              "<div>\n",
              "<style scoped>\n",
              "    .dataframe tbody tr th:only-of-type {\n",
              "        vertical-align: middle;\n",
              "    }\n",
              "\n",
              "    .dataframe tbody tr th {\n",
              "        vertical-align: top;\n",
              "    }\n",
              "\n",
              "    .dataframe thead th {\n",
              "        text-align: right;\n",
              "    }\n",
              "</style>\n",
              "<table border=\"1\" class=\"dataframe\">\n",
              "  <thead>\n",
              "    <tr style=\"text-align: right;\">\n",
              "      <th></th>\n",
              "      <th>sentiment</th>\n",
              "      <th>text</th>\n",
              "    </tr>\n",
              "  </thead>\n",
              "  <tbody>\n",
              "    <tr>\n",
              "      <th>1</th>\n",
              "      <td>Positive</td>\n",
              "      <td>RT @ScottWalker: Didn't catch the full #GOPdeb...</td>\n",
              "    </tr>\n",
              "    <tr>\n",
              "      <th>3</th>\n",
              "      <td>Positive</td>\n",
              "      <td>RT @RobGeorge: That Carly Fiorina is trending ...</td>\n",
              "    </tr>\n",
              "    <tr>\n",
              "      <th>4</th>\n",
              "      <td>Positive</td>\n",
              "      <td>RT @DanScavino: #GOPDebate w/ @realDonaldTrump...</td>\n",
              "    </tr>\n",
              "    <tr>\n",
              "      <th>5</th>\n",
              "      <td>Positive</td>\n",
              "      <td>RT @GregAbbott_TX: @TedCruz: \"On my first day ...</td>\n",
              "    </tr>\n",
              "    <tr>\n",
              "      <th>6</th>\n",
              "      <td>Negative</td>\n",
              "      <td>RT @warriorwoman91: I liked her and was happy ...</td>\n",
              "    </tr>\n",
              "  </tbody>\n",
              "</table>\n",
              "</div>"
            ],
            "text/plain": [
              "  sentiment                                               text\n",
              "1  Positive  RT @ScottWalker: Didn't catch the full #GOPdeb...\n",
              "3  Positive  RT @RobGeorge: That Carly Fiorina is trending ...\n",
              "4  Positive  RT @DanScavino: #GOPDebate w/ @realDonaldTrump...\n",
              "5  Positive  RT @GregAbbott_TX: @TedCruz: \"On my first day ...\n",
              "6  Negative  RT @warriorwoman91: I liked her and was happy ..."
            ]
          },
          "metadata": {
            "tags": []
          },
          "execution_count": 27
        }
      ]
    },
    {
      "cell_type": "code",
      "metadata": {
        "colab": {
          "base_uri": "https://localhost:8080/"
        },
        "id": "r03zrSVjLqdS",
        "outputId": "4830ecf8-d9e1-4cce-ffc0-c8b6af22a652"
      },
      "source": [
        "# Checking for any missing data\r\n",
        "data.isnull().sum()"
      ],
      "execution_count": 59,
      "outputs": [
        {
          "output_type": "execute_result",
          "data": {
            "text/plain": [
              "sentiment    0\n",
              "text         0\n",
              "dtype: int64"
            ]
          },
          "metadata": {
            "tags": []
          },
          "execution_count": 59
        }
      ]
    },
    {
      "cell_type": "code",
      "metadata": {
        "colab": {
          "base_uri": "https://localhost:8080/"
        },
        "id": "i1ckD7XxC1uT",
        "outputId": "dc8f5cda-d12e-47ac-b05a-892168356c93"
      },
      "source": [
        "# unique values of sentiment columns. Two values found : Positive, Negative\r\n",
        "data['sentiment'].unique()"
      ],
      "execution_count": 28,
      "outputs": [
        {
          "output_type": "execute_result",
          "data": {
            "text/plain": [
              "array(['Positive', 'Negative'], dtype=object)"
            ]
          },
          "metadata": {
            "tags": []
          },
          "execution_count": 28
        }
      ]
    },
    {
      "cell_type": "code",
      "metadata": {
        "colab": {
          "base_uri": "https://localhost:8080/",
          "height": 400
        },
        "id": "3f5rpnvaDTEk",
        "outputId": "f2d333c6-bb03-4852-acb8-2c9d3a22a8da"
      },
      "source": [
        "sns.catplot(x = 'sentiment', kind = 'count', data = data)"
      ],
      "execution_count": 32,
      "outputs": [
        {
          "output_type": "execute_result",
          "data": {
            "text/plain": [
              "<seaborn.axisgrid.FacetGrid at 0x7f31aa327160>"
            ]
          },
          "metadata": {
            "tags": []
          },
          "execution_count": 32
        },
        {
          "output_type": "display_data",
          "data": {
            "image/png": "[encoded data removed]",
            "text/plain": [
              "<Figure size 360x360 with 1 Axes>"
            ]
          },
          "metadata": {
            "tags": [],
            "needs_background": "light"
          }
        }
      ]
    },
    {
      "cell_type": "markdown",
      "metadata": {
        "id": "TEpAnC9pID6z"
      },
      "source": [
        "Now converting the data into lower case and removing all unnecessary symbols."
      ]
    },
    {
      "cell_type": "code",
      "metadata": {
        "colab": {
          "base_uri": "https://localhost:8080/",
          "height": 35
        },
        "id": "WDPL6vZLDcKf",
        "outputId": "7fbf3e2d-e09b-4be1-a4cb-91e146c93b69"
      },
      "source": [
        "data['text'] = data['text'].apply(lambda x : x.lower())\r\n",
        "data['text'].iloc[0]"
      ],
      "execution_count": 36,
      "outputs": [
        {
          "output_type": "execute_result",
          "data": {
            "application/vnd.google.colaboratory.intrinsic+json": {
              "type": "string"
            },
            "text/plain": [
              "\"rt @scottwalker: didn't catch the full #gopdebate last night. here are some of scott's best lines in 90 seconds. #walker16 http://t.co/zsff…\""
            ]
          },
          "metadata": {
            "tags": []
          },
          "execution_count": 36
        }
      ]
    },
    {
      "cell_type": "code",
      "metadata": {
        "colab": {
          "base_uri": "https://localhost:8080/",
          "height": 35
        },
        "id": "ze83GOpTIbtE",
        "outputId": "40727579-659e-4128-804d-aaf10be8c6cd"
      },
      "source": [
        "# lambda function for removing http... and converting string into lower case\r\n",
        "data['text'] = data['text'].apply(lambda x : re.sub('[^a-zA-Z0-9\\s]http[\\S]+','',x))\r\n",
        "\r\n",
        "# lambda function for removing 'rt' (present at the beginning of every tweet)\r\n",
        "data['text'] = data['text'].apply(lambda y : re.sub('rt','',y))\r\n",
        "\r\n",
        "data['text'].iloc[0]"
      ],
      "execution_count": 53,
      "outputs": [
        {
          "output_type": "execute_result",
          "data": {
            "application/vnd.google.colaboratory.intrinsic+json": {
              "type": "string"
            },
            "text/plain": [
              "' scottwalker didnt catch the full gopdebate last night here are some of scotts best lines in 90 seconds walker16 '"
            ]
          },
          "metadata": {
            "tags": []
          },
          "execution_count": 53
        }
      ]
    },
    {
      "cell_type": "code",
      "metadata": {
        "colab": {
          "base_uri": "https://localhost:8080/",
          "height": 195
        },
        "id": "jkrHYIiOJvXs",
        "outputId": "71ae7178-3098-4ca2-aaac-ac14240c0260"
      },
      "source": [
        "data.head()"
      ],
      "execution_count": 54,
      "outputs": [
        {
          "output_type": "execute_result",
          "data": {
            "text/html": [
              "<div>\n",
              "<style scoped>\n",
              "    .dataframe tbody tr th:only-of-type {\n",
              "        vertical-align: middle;\n",
              "    }\n",
              "\n",
              "    .dataframe tbody tr th {\n",
              "        vertical-align: top;\n",
              "    }\n",
              "\n",
              "    .dataframe thead th {\n",
              "        text-align: right;\n",
              "    }\n",
              "</style>\n",
              "<table border=\"1\" class=\"dataframe\">\n",
              "  <thead>\n",
              "    <tr style=\"text-align: right;\">\n",
              "      <th></th>\n",
              "      <th>sentiment</th>\n",
              "      <th>text</th>\n",
              "    </tr>\n",
              "  </thead>\n",
              "  <tbody>\n",
              "    <tr>\n",
              "      <th>1</th>\n",
              "      <td>Positive</td>\n",
              "      <td>scottwalker didnt catch the full gopdebate la...</td>\n",
              "    </tr>\n",
              "    <tr>\n",
              "      <th>3</th>\n",
              "      <td>Positive</td>\n",
              "      <td>robgeorge that carly fiorina is trending  hou...</td>\n",
              "    </tr>\n",
              "    <tr>\n",
              "      <th>4</th>\n",
              "      <td>Positive</td>\n",
              "      <td>danscavino gopdebate w realdonaldtrump delive...</td>\n",
              "    </tr>\n",
              "    <tr>\n",
              "      <th>5</th>\n",
              "      <td>Positive</td>\n",
              "      <td>gregabbotttx tedcruz on my first day i will r...</td>\n",
              "    </tr>\n",
              "    <tr>\n",
              "      <th>6</th>\n",
              "      <td>Negative</td>\n",
              "      <td>warriorwoman91 i liked her and was happy when...</td>\n",
              "    </tr>\n",
              "  </tbody>\n",
              "</table>\n",
              "</div>"
            ],
            "text/plain": [
              "  sentiment                                               text\n",
              "1  Positive   scottwalker didnt catch the full gopdebate la...\n",
              "3  Positive   robgeorge that carly fiorina is trending  hou...\n",
              "4  Positive   danscavino gopdebate w realdonaldtrump delive...\n",
              "5  Positive   gregabbotttx tedcruz on my first day i will r...\n",
              "6  Negative   warriorwoman91 i liked her and was happy when..."
            ]
          },
          "metadata": {
            "tags": []
          },
          "execution_count": 54
        }
      ]
    },
    {
      "cell_type": "code",
      "metadata": {
        "id": "16Kgc_KvKLpz"
      },
      "source": [
        "max_features = 3000\r\n",
        "tokenizer = Tokenizer(num_words=max_features, split=\" \")\r\n",
        "# num_words : the maximum number of words to keep, based on word frequency\r\n",
        "# split : str. Separator for word splitting.\r\n",
        "\r\n",
        "tokenizer.fit_on_texts(data['text'].values)\r\n",
        "# fit_on_texts() : Updates internal vocabulary based on a list of texts\r\n",
        "\r\n",
        "seq = tokenizer.texts_to_sequences(data['text'].values)\r\n",
        "# texts_to_sequences() : Transforms each text in texts to a sequence of integers"
      ],
      "execution_count": 61,
      "outputs": []
    },
    {
      "cell_type": "code",
      "metadata": {
        "colab": {
          "base_uri": "https://localhost:8080/"
        },
        "id": "7SOt5gxcPDKM",
        "outputId": "223abfcf-c68d-46e8-c396-b59b055090f6"
      },
      "source": [
        "data['text'].values"
      ],
      "execution_count": 62,
      "outputs": [
        {
          "output_type": "execute_result",
          "data": {
            "text/plain": [
              "array([' scottwalker didnt catch the full gopdebate last night here are some of scotts best lines in 90 seconds walker16 ',\n",
              "       ' robgeorge that carly fiorina is trending  hours after her debate  above any of the men in justcompleted gopdebate says shes on ',\n",
              "       ' danscavino gopdebate w realdonaldtrump delivered the highest ratings in the history of presidential debates trump2016 ',\n",
              "       ...,\n",
              "       ' lrihendry tedcruz as president i will always tell the truth and do what i said i would do  gopdebates',\n",
              "       ' jrehling gopdebate donald trump says that he doesnt have time for political correctness how does calling women fat pigs save him ',\n",
              "       ' lrihendry tedcruz headed into the presidential debates go ted \\n\\ngopdebates '],\n",
              "      dtype=object)"
            ]
          },
          "metadata": {
            "tags": []
          },
          "execution_count": 62
        }
      ]
    },
    {
      "cell_type": "code",
      "metadata": {
        "colab": {
          "base_uri": "https://localhost:8080/"
        },
        "id": "ZFkgXB1ZPIoA",
        "outputId": "3e1cf0e0-c660-4b29-c8f1-99381801abca"
      },
      "source": [
        "print(seq[1])\r\n",
        "print(len(seq[1]))"
      ],
      "execution_count": 68,
      "outputs": [
        {
          "output_type": "stream",
          "text": [
            "[16, 281, 249, 5, 799, 102, 169, 26, 2741, 133, 6, 1, 170, 12, 2, 231, 707, 17]\n",
            "18\n"
          ],
          "name": "stdout"
        }
      ]
    },
    {
      "cell_type": "code",
      "metadata": {
        "colab": {
          "base_uri": "https://localhost:8080/"
        },
        "id": "EP9LJcwsPN8B",
        "outputId": "13936961-40c7-4cf9-ffab-1cf53b26951c"
      },
      "source": [
        "print(seq[2])\r\n",
        "print(len(seq[2]))"
      ],
      "execution_count": 70,
      "outputs": [
        {
          "output_type": "stream",
          "text": [
            "[1230, 2, 307, 23, 1902, 1, 1593, 213, 12, 1, 687, 6, 183, 204, 366]\n",
            "15\n"
          ],
          "name": "stdout"
        }
      ]
    },
    {
      "cell_type": "code",
      "metadata": {
        "colab": {
          "base_uri": "https://localhost:8080/"
        },
        "id": "_o_wvk0WPobG",
        "outputId": "324521ab-56c7-41b5-edb2-1028f8a4df48"
      },
      "source": [
        "print(seq[4])\r\n",
        "print(len(seq[4]))"
      ],
      "execution_count": 71,
      "outputs": [
        {
          "output_type": "stream",
          "text": [
            "[2742, 9, 1122, 169, 8, 21, 1291, 63, 9, 603, 185, 21, 186, 4, 34, 1, 554, 19, 800, 2, 44]\n",
            "21\n"
          ],
          "name": "stdout"
        }
      ]
    },
    {
      "cell_type": "markdown",
      "metadata": {
        "id": "Y-hJepmkP0iQ"
      },
      "source": [
        "we can clearly see that the length of sequences are different so we are using padding to make them to the similar length"
      ]
    },
    {
      "cell_type": "code",
      "metadata": {
        "id": "vLbjHTDkPwOi"
      },
      "source": [
        "seq = pad_sequences(seq)"
      ],
      "execution_count": 72,
      "outputs": []
    },
    {
      "cell_type": "code",
      "metadata": {
        "colab": {
          "base_uri": "https://localhost:8080/"
        },
        "id": "7lRLomDiQGKC",
        "outputId": "48fa4ebd-0540-49c3-90af-c78e145ffbfa"
      },
      "source": [
        "print(seq[1])\r\n",
        "print(len(seq[1]))"
      ],
      "execution_count": 73,
      "outputs": [
        {
          "output_type": "stream",
          "text": [
            "[   0    0    0    0    0    0    0    0    0    0    0   16  281  249\n",
            "    5  799  102  169   26 2741  133    6    1  170   12    2  231  707\n",
            "   17]\n",
            "29\n"
          ],
          "name": "stdout"
        }
      ]
    },
    {
      "cell_type": "code",
      "metadata": {
        "colab": {
          "base_uri": "https://localhost:8080/"
        },
        "id": "152OlOUZQJTy",
        "outputId": "93831c87-2a71-431c-c8b3-0314c563cb70"
      },
      "source": [
        "print(seq[4])\r\n",
        "print(len(seq[4]))"
      ],
      "execution_count": 74,
      "outputs": [
        {
          "output_type": "stream",
          "text": [
            "[   0    0    0    0    0    0    0    0 2742    9 1122  169    8   21\n",
            " 1291   63    9  603  185   21  186    4   34    1  554   19  800    2\n",
            "   44]\n",
            "29\n"
          ],
          "name": "stdout"
        }
      ]
    },
    {
      "cell_type": "code",
      "metadata": {
        "colab": {
          "base_uri": "https://localhost:8080/"
        },
        "id": "v0UwMeWbQLu0",
        "outputId": "5fddfb42-ffdc-4b35-b280-64de2ad00f40"
      },
      "source": [
        "seq.shape"
      ],
      "execution_count": 75,
      "outputs": [
        {
          "output_type": "execute_result",
          "data": {
            "text/plain": [
              "(10729, 29)"
            ]
          },
          "metadata": {
            "tags": []
          },
          "execution_count": 75
        }
      ]
    },
    {
      "cell_type": "markdown",
      "metadata": {
        "id": "GNOjKK7ZQX6A"
      },
      "source": [
        "## Locating feature and label"
      ]
    },
    {
      "cell_type": "code",
      "metadata": {
        "id": "loBxhPgqQWLy"
      },
      "source": [
        "x = seq\r\n",
        "y = pd.get_dummies(data['sentiment'],drop_first=True).values"
      ],
      "execution_count": 77,
      "outputs": []
    },
    {
      "cell_type": "markdown",
      "metadata": {
        "id": "bppVL65-QoYq"
      },
      "source": [
        "## Splitting the data into train and test set"
      ]
    },
    {
      "cell_type": "code",
      "metadata": {
        "id": "-HB_39HaQjq6"
      },
      "source": [
        "x_train, x_test, y_train, y_test = train_test_split(x, y, test_size = 0.2, random_state = 0)"
      ],
      "execution_count": 80,
      "outputs": []
    },
    {
      "cell_type": "code",
      "metadata": {
        "colab": {
          "base_uri": "https://localhost:8080/"
        },
        "id": "mNj-uAiKRAWK",
        "outputId": "6ece3b27-6ea2-4ff6-92b1-1b5538e168b2"
      },
      "source": [
        "# let's take a look at train and test set\r\n",
        "print(\"x_train : \", x_train.shape, \"y_train : \", y_train.shape)\r\n",
        "print(\"x_test  : \", x_test.shape, \" y_test : \", y_test.shape)"
      ],
      "execution_count": 83,
      "outputs": [
        {
          "output_type": "stream",
          "text": [
            "x_train :  (8583, 29) y_train :  (8583, 1)\n",
            "x_test  :  (2146, 29)  y_test :  (2146, 1)\n"
          ],
          "name": "stdout"
        }
      ]
    },
    {
      "cell_type": "markdown",
      "metadata": {
        "id": "8z08PRS4ReyP"
      },
      "source": [
        "## Creating our LSTM network"
      ]
    },
    {
      "cell_type": "code",
      "metadata": {
        "colab": {
          "base_uri": "https://localhost:8080/"
        },
        "id": "Mr6D_k8yRQ_c",
        "outputId": "d360f72d-ee14-446f-9eca-5c0b70143b9f"
      },
      "source": [
        "model = Sequential()\r\n",
        "model.add(Embedding(max_features, 128, input_length=seq.shape[1])) \r\n",
        "model.add(SpatialDropout1D(0.4))\r\n",
        "model.add(LSTM(128, dropout=0.3, recurrent_dropout=0.3))\r\n",
        "model.add(Dense(1, activation='sigmoid'))"
      ],
      "execution_count": 89,
      "outputs": [
        {
          "output_type": "stream",
          "text": [
            "WARNING:tensorflow:Layer lstm_1 will not use cuDNN kernel since it doesn't meet the cuDNN kernel criteria. It will use generic GPU kernel as fallback when running on GPU\n"
          ],
          "name": "stdout"
        }
      ]
    },
    {
      "cell_type": "code",
      "metadata": {
        "colab": {
          "base_uri": "https://localhost:8080/"
        },
        "id": "zJMceFa6R1nB",
        "outputId": "e9be4e35-cbd2-42c9-894d-c00df8d24afc"
      },
      "source": [
        "model.summary()"
      ],
      "execution_count": 90,
      "outputs": [
        {
          "output_type": "stream",
          "text": [
            "Model: \"sequential_1\"\n",
            "_________________________________________________________________\n",
            "Layer (type)                 Output Shape              Param #   \n",
            "=================================================================\n",
            "embedding_1 (Embedding)      (None, 29, 128)           384000    \n",
            "_________________________________________________________________\n",
            "spatial_dropout1d_1 (Spatial (None, 29, 128)           0         \n",
            "_________________________________________________________________\n",
            "lstm_1 (LSTM)                (None, 128)               131584    \n",
            "_________________________________________________________________\n",
            "dense_1 (Dense)              (None, 1)                 129       \n",
            "=================================================================\n",
            "Total params: 515,713\n",
            "Trainable params: 515,713\n",
            "Non-trainable params: 0\n",
            "_________________________________________________________________\n"
          ],
          "name": "stdout"
        }
      ]
    },
    {
      "cell_type": "code",
      "metadata": {
        "id": "HOfc9tkiSEig"
      },
      "source": [
        "model.compile(loss='binary_crossentropy',optimizer='adam',metrics=['accuracy'])"
      ],
      "execution_count": 91,
      "outputs": []
    },
    {
      "cell_type": "code",
      "metadata": {
        "colab": {
          "base_uri": "https://localhost:8080/"
        },
        "id": "0SE41XYLSHWT",
        "outputId": "9d9df59e-4b14-47bb-a5c7-e2ee52eacb1e"
      },
      "source": [
        "history = model.fit(x_train,y_train,batch_size=32,epochs=10,validation_data=(x_test,y_test),verbose=1)"
      ],
      "execution_count": 92,
      "outputs": [
        {
          "output_type": "stream",
          "text": [
            "Epoch 1/10\n",
            "269/269 [==============================] - 31s 107ms/step - loss: 0.5073 - accuracy: 0.7942 - val_loss: 0.3576 - val_accuracy: 0.8462\n",
            "Epoch 2/10\n",
            "269/269 [==============================] - 28s 105ms/step - loss: 0.3247 - accuracy: 0.8588 - val_loss: 0.3475 - val_accuracy: 0.8551\n",
            "Epoch 3/10\n",
            "269/269 [==============================] - 28s 105ms/step - loss: 0.2702 - accuracy: 0.8842 - val_loss: 0.3403 - val_accuracy: 0.8597\n",
            "Epoch 4/10\n",
            "269/269 [==============================] - 28s 104ms/step - loss: 0.2356 - accuracy: 0.9041 - val_loss: 0.3482 - val_accuracy: 0.8509\n",
            "Epoch 5/10\n",
            "269/269 [==============================] - 29s 106ms/step - loss: 0.2047 - accuracy: 0.9170 - val_loss: 0.3959 - val_accuracy: 0.8406\n",
            "Epoch 6/10\n",
            "269/269 [==============================] - 28s 104ms/step - loss: 0.1813 - accuracy: 0.9289 - val_loss: 0.4074 - val_accuracy: 0.8509\n",
            "Epoch 7/10\n",
            "269/269 [==============================] - 28s 105ms/step - loss: 0.1661 - accuracy: 0.9357 - val_loss: 0.4168 - val_accuracy: 0.8514\n",
            "Epoch 8/10\n",
            "269/269 [==============================] - 28s 104ms/step - loss: 0.1504 - accuracy: 0.9405 - val_loss: 0.4496 - val_accuracy: 0.8500\n",
            "Epoch 9/10\n",
            "269/269 [==============================] - 28s 104ms/step - loss: 0.1331 - accuracy: 0.9475 - val_loss: 0.4886 - val_accuracy: 0.8453\n",
            "Epoch 10/10\n",
            "269/269 [==============================] - 28s 105ms/step - loss: 0.1270 - accuracy: 0.9467 - val_loss: 0.5210 - val_accuracy: 0.8444\n"
          ],
          "name": "stdout"
        }
      ]
    },
    {
      "cell_type": "code",
      "metadata": {
        "colab": {
          "base_uri": "https://localhost:8080/"
        },
        "id": "7w9K0sVaSLzA",
        "outputId": "fcc495c5-05ce-41bf-d361-93a3cf35d26b"
      },
      "source": [
        "model.evaluate(x_test, y_test)"
      ],
      "execution_count": 93,
      "outputs": [
        {
          "output_type": "stream",
          "text": [
            "68/68 [==============================] - 0s 7ms/step - loss: 0.5210 - accuracy: 0.8444\n"
          ],
          "name": "stdout"
        },
        {
          "output_type": "execute_result",
          "data": {
            "text/plain": [
              "[0.5209982395172119, 0.8443616032600403]"
            ]
          },
          "metadata": {
            "tags": []
          },
          "execution_count": 93
        }
      ]
    },
    {
      "cell_type": "code",
      "metadata": {
        "colab": {
          "base_uri": "https://localhost:8080/",
          "height": 480
        },
        "id": "SVxv3BclUxB5",
        "outputId": "36cbd12f-a4f0-433f-9433-ccb8c12dc007"
      },
      "source": [
        "y_pred = model.predict_classes(x_test)\r\n",
        "plt.subplots(figsize=(6,6))\r\n",
        "\r\n",
        "sns.heatmap(confusion_matrix(y_pred,y_test),annot=True,fmt=\"1.0f\",cbar=False,annot_kws={\"size\": 20})\r\n",
        "\r\n",
        "plt.title(f\"LSTM Accuracy: {round(accuracy_score(y_pred,y_test),2)}\",fontsize=30)\r\n",
        "plt.xlabel(\"Target\",fontsize=20)\r\n",
        "plt.show()"
      ],
      "execution_count": 97,
      "outputs": [
        {
          "output_type": "stream",
          "text": [
            "/usr/local/lib/python3.6/dist-packages/tensorflow/python/keras/engine/sequential.py:450: UserWarning: `model.predict_classes()` is deprecated and will be removed after 2021-01-01. Please use instead:* `np.argmax(model.predict(x), axis=-1)`,   if your model does multi-class classification   (e.g. if it uses a `softmax` last-layer activation).* `(model.predict(x) > 0.5).astype(\"int32\")`,   if your model does binary classification   (e.g. if it uses a `sigmoid` last-layer activation).\n",
            "  warnings.warn('`model.predict_classes()` is deprecated and '\n"
          ],
          "name": "stderr"
        },
        {
          "output_type": "display_data",
          "data": {
            "image/png": "[encoded data removed]",
            "text/plain": [
              "<Figure size 432x432 with 1 Axes>"
            ]
          },
          "metadata": {
            "tags": [],
            "needs_background": "light"
          }
        }
      ]
    },
    {
      "cell_type": "code",
      "metadata": {
        "colab": {
          "base_uri": "https://localhost:8080/",
          "height": 295
        },
        "id": "FYWh3X5lU3Mr",
        "outputId": "53232860-10cb-4aa6-b3e6-67a5335cc8ba"
      },
      "source": [
        "# summarize history for accuracy\r\n",
        "plt.plot(history.history['accuracy'])\r\n",
        "plt.plot(history.history['val_accuracy'])\r\n",
        "plt.title('model accuracy')\r\n",
        "plt.ylabel('accuracy')\r\n",
        "plt.xlabel('epoch')\r\n",
        "plt.legend(['train', 'test'], loc='upper left')\r\n",
        "plt.show()"
      ],
      "execution_count": 98,
      "outputs": [
        {
          "output_type": "display_data",
          "data": {
            "image/png": "[encoded data removed]",
            "text/plain": [
              "<Figure size 432x288 with 1 Axes>"
            ]
          },
          "metadata": {
            "tags": [],
            "needs_background": "light"
          }
        }
      ]
    },
    {
      "cell_type": "code",
      "metadata": {
        "colab": {
          "base_uri": "https://localhost:8080/",
          "height": 295
        },
        "id": "VYx1LkTpVRMQ",
        "outputId": "35cbd05f-1a2d-4e33-d667-1e0bfbd75538"
      },
      "source": [
        "# summarize history for loss\r\n",
        "plt.plot(history.history['loss'])\r\n",
        "plt.plot(history.history['val_loss'])\r\n",
        "plt.title('model loss')\r\n",
        "plt.ylabel('loss')\r\n",
        "plt.xlabel('epoch')\r\n",
        "plt.legend(['train', 'test'], loc='upper left')\r\n",
        "plt.show()"
      ],
      "execution_count": 99,
      "outputs": [
        {
          "output_type": "display_data",
          "data": {
            "image/png": "[encoded data removed]",
            "text/plain": [
              "<Figure size 432x288 with 1 Axes>"
            ]
          },
          "metadata": {
            "tags": [],
            "needs_background": "light"
          }
        }
      ]
    },
    {
      "cell_type": "code",
      "metadata": {
        "id": "4NEju0S_VWT1"
      },
      "source": [
        ""
      ],
      "execution_count": null,
      "outputs": []
    }
  ]
}